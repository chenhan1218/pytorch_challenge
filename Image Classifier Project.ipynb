{
 "cells": [
  {
   "cell_type": "markdown",
   "metadata": {
    "colab_type": "text",
    "id": "DLoiIqi06mgx"
   },
   "source": [
    "# Developing an AI application\n",
    "\n",
    "Going forward, AI algorithms will be incorporated into more and more everyday applications. For example, you might want to include an image classifier in a smart phone app. To do this, you'd use a deep learning model trained on hundreds of thousands of images as part of the overall application architecture. A large part of software development in the future will be using these types of models as common parts of applications. \n",
    "\n",
    "In this project, you'll train an image classifier to recognize different species of flowers. You can imagine using something like this in a phone app that tells you the name of the flower your camera is looking at. In practice you'd train this classifier, then export it for use in your application. We'll be using [this dataset](http://www.robots.ox.ac.uk/~vgg/data/flowers/102/index.html) of 102 flower categories, you can see a few examples below. \n",
    "\n",
    "<img src='assets/Flowers.png' width=500px>\n",
    "\n",
    "The project is broken down into multiple steps:\n",
    "\n",
    "* Load and preprocess the image dataset\n",
    "* Train the image classifier on your dataset\n",
    "* Use the trained classifier to predict image content\n",
    "\n",
    "We'll lead you through each part which you'll implement in Python.\n",
    "\n",
    "When you've completed this project, you'll have an application that can be trained on any set of labeled images. Here your network will be learning about flowers and end up as a command line application. But, what you do with your new skills depends on your imagination and effort in building a dataset. For example, imagine an app where you take a picture of a car, it tells you what the make and model is, then looks up information about it. Go build your own dataset and make something new.\n",
    "\n",
    "First up is importing the packages you'll need. It's good practice to keep all the imports at the beginning of your code. As you work through this notebook and find you need to import a package, make sure to add the import up here."
   ]
  },
  {
   "cell_type": "code",
   "execution_count": 0,
   "metadata": {
    "colab": {
     "base_uri": "https://localhost:8080/",
     "height": 483
    },
    "colab_type": "code",
    "executionInfo": {
     "elapsed": 16525,
     "status": "ok",
     "timestamp": 1546757468742,
     "user": {
      "displayName": "蕭辰翰",
      "photoUrl": "https://lh4.googleusercontent.com/-8GRt3sJ0oeo/AAAAAAAAAAI/AAAAAAAAP-M/1O5OOrSXQ4M/s64/photo.jpg",
      "userId": "16434142808607286781"
     },
     "user_tz": -480
    },
    "id": "2C6WpMUF6pVj",
    "outputId": "c2e6e968-1ad7-4ac5-b41a-54f0748f31e5"
   },
   "outputs": [
    {
     "name": "stdout",
     "output_type": "stream",
     "text": [
      "Drive already mounted at /content/drive; to attempt to forcibly remount, call drive.mount(\"/content/drive\", force_remount=True).\n",
      "total 20\n",
      "drwx------   4 root root 4096 Jan  6 01:23 .\n",
      "drwxr-xr-x   1 root root 4096 Jan  6 02:43 ..\n",
      "-rw-------   1 root root 2218 Jan  6 06:50 cat_to_name.json\n",
      "drwxr-xr-x 104 root root 4096 Jan 15  2018 train\n",
      "drwxr-xr-x 104 root root 4096 Jan 15  2018 valid\n",
      "/content\n",
      "Filesystem      Size  Used Avail Use% Mounted on\n",
      "overlay         359G   22G  319G   7% /\n",
      "tmpfs           6.4G     0  6.4G   0% /dev\n",
      "tmpfs           6.4G     0  6.4G   0% /sys/fs/cgroup\n",
      "tmpfs           6.4G  8.0K  6.4G   1% /var/colab\n",
      "/dev/sda1       365G   28G  338G   8% /opt/bin\n",
      "shm             6.0G     0  6.0G   0% /dev/shm\n",
      "tmpfs           6.4G     0  6.4G   0% /sys/firmware\n",
      "drive           119G   13G  107G  11% /content/drive\n",
      "Python 3.6.7\n",
      "Requirement already satisfied: torch in /usr/local/lib/python3.6/dist-packages (1.0.0)\n",
      "Requirement already satisfied: torchvision in /usr/local/lib/python3.6/dist-packages (0.2.1)\n",
      "Requirement already satisfied: torch in /usr/local/lib/python3.6/dist-packages (from torchvision) (1.0.0)\n",
      "Requirement already satisfied: six in /usr/local/lib/python3.6/dist-packages (from torchvision) (1.11.0)\n",
      "Requirement already satisfied: numpy in /usr/local/lib/python3.6/dist-packages (from torchvision) (1.14.6)\n",
      "Requirement already satisfied: pillow>=4.1.1 in /usr/local/lib/python3.6/dist-packages (from torchvision) (5.4.0)\n",
      "9.0.176\n"
     ]
    }
   ],
   "source": [
    "# Load the Drive helper and mount\n",
    "from google.colab import drive\n",
    "\n",
    "# This will prompt for authorization.\n",
    "drive.mount('/content/drive')\n",
    "\n",
    "!if [ ! -d flower_data ] ; then wget https://s3.amazonaws.com/content.udacity-data.com/courses/nd188/flower_data.zip; unzip -qq flower_data.zip;fi\n",
    "!cp -f \"/content/drive/My Drive/Colab Notebooks/flower_data/cat_to_name.json\" /content/flower_data/cat_to_name.json\n",
    "#!mkdir -p /content/flower_data\n",
    "!ls -al /content/flower_data/\n",
    "#!rsync -a \"/content/drive/My Drive/Colab Notebooks/flower_data/\" /content/flower_data/\n",
    "!pwd\n",
    "!df -h\n",
    "\n",
    "!python -V\n",
    "!pip3 install torch\n",
    "!pip3 install torchvision\n",
    "import torch\n",
    "print(torch.version.cuda)"
   ]
  },
  {
   "cell_type": "code",
   "execution_count": 0,
   "metadata": {
    "colab": {
     "base_uri": "https://localhost:8080/",
     "height": 285
    },
    "colab_type": "code",
    "executionInfo": {
     "elapsed": 21387,
     "status": "ok",
     "timestamp": 1546757473635,
     "user": {
      "displayName": "蕭辰翰",
      "photoUrl": "https://lh4.googleusercontent.com/-8GRt3sJ0oeo/AAAAAAAAAAI/AAAAAAAAP-M/1O5OOrSXQ4M/s64/photo.jpg",
      "userId": "16434142808607286781"
     },
     "user_tz": -480
    },
    "id": "ApyfCwXCVnfr",
    "outputId": "5bdcb7dd-92a3-4e8c-a457-3a30ba02a386"
   },
   "outputs": [
    {
     "name": "stdout",
     "output_type": "stream",
     "text": [
      "total 20\n",
      "drwx------   4 root root 4096 Jan  6 01:23 .\n",
      "drwxr-xr-x   1 root root 4096 Jan  6 02:43 ..\n",
      "-rw-------   1 root root 2218 Jan  6 06:50 cat_to_name.json\n",
      "drwxr-xr-x 104 root root 4096 Jan 15  2018 train\n",
      "drwxr-xr-x 104 root root 4096 Jan 15  2018 valid\n",
      "total 830280\n",
      "drwxr-xr-x 1 root root      4096 Jan  6 02:43 .\n",
      "drwxr-xr-x 1 root root      4096 Jan  6 00:32 ..\n",
      "drwxr-xr-x 4 root root      4096 Jan  3 17:15 .config\n",
      "drwx------ 3 root root      4096 Jan  6 01:23 drive\n",
      "drwx------ 4 root root      4096 Jan  6 01:23 flower_data\n",
      "-rw-r--r-- 1 root root 311442766 Nov  6 16:00 flower_data.zip\n",
      "-rw-r--r-- 1 root root 538727757 Jan  6 06:45 model.pt\n",
      "drwxr-xr-x 1 root root      4096 Jan  3 17:15 sample_data\n"
     ]
    }
   ],
   "source": [
    "!ls -al /content/flower_data/\n",
    "!ls -al /content/"
   ]
  },
  {
   "cell_type": "code",
   "execution_count": 0,
   "metadata": {
    "colab": {
     "base_uri": "https://localhost:8080/",
     "height": 35
    },
    "colab_type": "code",
    "executionInfo": {
     "elapsed": 21370,
     "status": "ok",
     "timestamp": 1546757473635,
     "user": {
      "displayName": "蕭辰翰",
      "photoUrl": "https://lh4.googleusercontent.com/-8GRt3sJ0oeo/AAAAAAAAAAI/AAAAAAAAP-M/1O5OOrSXQ4M/s64/photo.jpg",
      "userId": "16434142808607286781"
     },
     "user_tz": -480
    },
    "id": "9CdXzoV56mgy",
    "outputId": "4a171e6f-5f88-4d1d-e125-bf4358e1d5a0"
   },
   "outputs": [
    {
     "name": "stdout",
     "output_type": "stream",
     "text": [
      "CUDA is available!  Training on GPU ...\n"
     ]
    }
   ],
   "source": [
    "# Imports here\n",
    "import torch\n",
    "import numpy as np\n",
    "\n",
    "%matplotlib inline\n",
    "%config InlineBackend.figure_format = 'retina'\n",
    "\n",
    "import matplotlib.pyplot as plt\n",
    "\n",
    "from torchvision import datasets, transforms\n",
    "\n",
    "# check if CUDA is available\n",
    "train_on_gpu = torch.cuda.is_available()\n",
    "\n",
    "if not train_on_gpu:\n",
    "    print('CUDA is not available.  Training on CPU ...')\n",
    "else:\n",
    "    print('CUDA is available!  Training on GPU ...')"
   ]
  },
  {
   "cell_type": "markdown",
   "metadata": {
    "colab_type": "text",
    "id": "DLgKM7c_6mg3"
   },
   "source": [
    "## Load the data\n",
    "\n",
    "Here you'll use `torchvision` to load the data ([documentation](http://pytorch.org/docs/0.3.0/torchvision/index.html)). You can [download the data here](https://s3.amazonaws.com/content.udacity-data.com/courses/nd188/flower_data.zip). The dataset is split into two parts, training and validation. For the training, you'll want to apply transformations such as random scaling, cropping, and flipping. This will help the network generalize leading to better performance. If you use a pre-trained network, you'll also need to make sure the input data is resized to 224x224 pixels as required by the networks.\n",
    "\n",
    "The validation set is used to measure the model's performance on data it hasn't seen yet. For this you don't want any scaling or rotation transformations, but you'll need to resize then crop the images to the appropriate size.\n",
    "\n",
    "The pre-trained networks available from `torchvision` were trained on the ImageNet dataset where each color channel was normalized separately. For both sets you'll need to normalize the means and standard deviations of the images to what the network expects. For the means, it's `[0.485, 0.456, 0.406]` and for the standard deviations `[0.229, 0.224, 0.225]`, calculated from the ImageNet images.  These values will shift each color channel to be centered at 0 and range from -1 to 1."
   ]
  },
  {
   "cell_type": "code",
   "execution_count": 0,
   "metadata": {
    "colab": {},
    "colab_type": "code",
    "id": "yF7cCn2q6mg4"
   },
   "outputs": [],
   "source": [
    "data_dir = 'flower_data'\n",
    "train_dir = data_dir + '/train'\n",
    "valid_dir = data_dir + '/valid'"
   ]
  },
  {
   "cell_type": "code",
   "execution_count": 0,
   "metadata": {
    "colab": {},
    "colab_type": "code",
    "id": "-fQi1q0k6mg6"
   },
   "outputs": [],
   "source": [
    "from torchvision import datasets\n",
    "import torchvision.transforms as transforms\n",
    "# from torch.utils.data.sampler import SubsetRandomSampler\n",
    "\n",
    "# TODO: Define your transforms for the training and validation sets\n",
    "train_data_transforms = transforms.Compose([\n",
    "    transforms.RandomHorizontalFlip(), # randomly flip and rotate\n",
    "    transforms.RandomRotation(10),\n",
    "    transforms.Resize(255),\n",
    "    transforms.CenterCrop(224),\n",
    "    transforms.ToTensor(),\n",
    "    transforms.Normalize((0.5, 0.5, 0.5), (0.5, 0.5, 0.5))\n",
    "    ])\n",
    "valid_data_transforms = transforms.Compose([transforms.Resize(255),\n",
    "                                      transforms.CenterCrop(224),\n",
    "                                      transforms.ToTensor(),\n",
    "    transforms.Normalize((0.5, 0.5, 0.5), (0.5, 0.5, 0.5))])\n",
    "\n",
    "# TODO: Load the datasets with ImageFolder\n",
    "train_image_datasets = datasets.ImageFolder(train_dir, transform=train_data_transforms)\n",
    "valid_image_datasets = datasets.ImageFolder(valid_dir, transform=valid_data_transforms)\n",
    "\n",
    "# TODO: Using the image datasets and the trainforms, define the dataloaders\n",
    "train_dataloaders = torch.utils.data.DataLoader(train_image_datasets, batch_size=32, shuffle=True)\n",
    "valid_dataloaders = torch.utils.data.DataLoader(valid_image_datasets, batch_size=32)"
   ]
  },
  {
   "cell_type": "code",
   "execution_count": 0,
   "metadata": {
    "colab": {},
    "colab_type": "code",
    "id": "egZxZYYN6mg8"
   },
   "outputs": [],
   "source": [
    "import matplotlib.pyplot as plt\n",
    "%matplotlib inline\n",
    "\n",
    "# helper function to un-normalize and display an image\n",
    "def imshow(img):\n",
    "    img = img / 2 + 0.5  # unnormalize\n",
    "    plt.imshow(np.transpose(img, (1, 2, 0)))  # convert from Tensor image"
   ]
  },
  {
   "cell_type": "code",
   "execution_count": 0,
   "metadata": {
    "colab": {
     "base_uri": "https://localhost:8080/",
     "height": 73
    },
    "colab_type": "code",
    "executionInfo": {
     "elapsed": 21327,
     "status": "ok",
     "timestamp": 1546757473645,
     "user": {
      "displayName": "蕭辰翰",
      "photoUrl": "https://lh4.googleusercontent.com/-8GRt3sJ0oeo/AAAAAAAAAAI/AAAAAAAAP-M/1O5OOrSXQ4M/s64/photo.jpg",
      "userId": "16434142808607286781"
     },
     "user_tz": -480
    },
    "id": "XyHiXPho6mg_",
    "outputId": "5ac40dab-4a34-4286-b211-f62052def257"
   },
   "outputs": [
    {
     "name": "stdout",
     "output_type": "stream",
     "text": [
      "{'1': 0, '10': 1, '100': 2, '101': 3, '102': 4, '11': 5, '12': 6, '13': 7, '14': 8, '15': 9, '16': 10, '17': 11, '18': 12, '19': 13, '2': 14, '20': 15, '21': 16, '22': 17, '23': 18, '24': 19, '25': 20, '26': 21, '27': 22, '28': 23, '29': 24, '3': 25, '30': 26, '31': 27, '32': 28, '33': 29, '34': 30, '35': 31, '36': 32, '37': 33, '38': 34, '39': 35, '4': 36, '40': 37, '41': 38, '42': 39, '43': 40, '44': 41, '45': 42, '46': 43, '47': 44, '48': 45, '49': 46, '5': 47, '50': 48, '51': 49, '52': 50, '53': 51, '54': 52, '55': 53, '56': 54, '57': 55, '58': 56, '59': 57, '6': 58, '60': 59, '61': 60, '62': 61, '63': 62, '64': 63, '65': 64, '66': 65, '67': 66, '68': 67, '69': 68, '7': 69, '70': 70, '71': 71, '72': 72, '73': 73, '74': 74, '75': 75, '76': 76, '77': 77, '78': 78, '79': 79, '8': 80, '80': 81, '81': 82, '82': 83, '83': 84, '84': 85, '85': 86, '86': 87, '87': 88, '88': 89, '89': 90, '9': 91, '90': 92, '91': 93, '92': 94, '93': 95, '94': 96, '95': 97, '96': 98, '97': 99, '98': 100, '99': 101}\n"
     ]
    },
    {
     "data": {
      "text/plain": [
       "<matplotlib.figure.Figure at 0x7f4439e572e8>"
      ]
     },
     "metadata": {
      "tags": []
     },
     "output_type": "display_data"
    }
   ],
   "source": [
    "print(train_image_datasets.class_to_idx)\n",
    "\n",
    "# obtain one batch of training images\n",
    "#dataiter = iter(train_dataloaders)\n",
    "#images, labels = dataiter.next()\n",
    "#print(images.size())\n",
    "#print(labels.size())\n",
    "#imshow(images[0])\n",
    "#print(labels)\n",
    "\n",
    "# images = images.numpy() # convert images to numpy for display\n",
    "\n",
    "# plot the images in the batch, along with the corresponding labels\n",
    "fig = plt.figure(figsize=(25, 4))\n",
    "# display 0 images\n",
    "for idx in np.arange(0):\n",
    "    ax = fig.add_subplot(2, 20/2, idx+1, xticks=[], yticks=[])\n",
    "    imshow(images[idx])\n",
    "    ax.set_title(labels[idx])"
   ]
  },
  {
   "cell_type": "markdown",
   "metadata": {
    "colab_type": "text",
    "id": "qjexFxM36mhB"
   },
   "source": [
    "### Label mapping\n",
    "\n",
    "You'll also need to load in a mapping from category label to category name. You can find this in the file `cat_to_name.json`. It's a JSON object which you can read in with the [`json` module](https://docs.python.org/2/library/json.html). This will give you a dictionary mapping the integer encoded categories to the actual names of the flowers."
   ]
  },
  {
   "cell_type": "code",
   "execution_count": 0,
   "metadata": {
    "colab": {},
    "colab_type": "code",
    "id": "f9kys7Xd6mhC"
   },
   "outputs": [],
   "source": [
    "import json\n",
    "\n",
    "with open('flower_data/cat_to_name.json', 'r') as f:\n",
    "    cat_to_name = json.load(f)"
   ]
  },
  {
   "cell_type": "markdown",
   "metadata": {
    "colab_type": "text",
    "id": "NleFmFaa6mhD"
   },
   "source": [
    "# Building and training the classifier\n",
    "\n",
    "Now that the data is ready, it's time to build and train the classifier. As usual, you should use one of the pretrained models from `torchvision.models` to get the image features. Build and train a new feed-forward classifier using those features.\n",
    "\n",
    "We're going to leave this part up to you. If you want to talk through it with someone, chat with your fellow students! You can also ask questions on the forums or join the instructors in office hours.\n",
    "\n",
    "Refer to [the rubric](https://review.udacity.com/#!/rubrics/1663/view) for guidance on successfully completing this section. Things you'll need to do:\n",
    "\n",
    "* Load a [pre-trained network](http://pytorch.org/docs/master/torchvision/models.html) (If you need a starting point, the VGG networks work great and are straightforward to use)\n",
    "* Define a new, untrained feed-forward network as a classifier, using ReLU activations and dropout\n",
    "* Train the classifier layers using backpropagation using the pre-trained network to get the features\n",
    "* Track the loss and accuracy on the validation set to determine the best hyperparameters\n",
    "\n",
    "We've left a cell open for you below, but use as many as you need. Our advice is to break the problem up into smaller parts you can run separately. Check that each part is doing what you expect, then move on to the next. You'll likely find that as you work through each part, you'll need to go back and modify your previous code. This is totally normal!\n",
    "\n",
    "When training make sure you're updating only the weights of the feed-forward network. You should be able to get the validation accuracy above 70% if you build everything right. Make sure to try different hyperparameters (learning rate, units in the classifier, epochs, etc) to find the best model. Save those hyperparameters to use as default values in the next part of the project."
   ]
  },
  {
   "cell_type": "code",
   "execution_count": 0,
   "metadata": {
    "colab": {},
    "colab_type": "code",
    "id": "84PJbPnUo0Gg"
   },
   "outputs": [],
   "source": [
    "%matplotlib inline\n",
    "%config InlineBackend.figure_format = 'retina'\n",
    "\n",
    "import matplotlib.pyplot as plt\n",
    "\n",
    "import torch\n",
    "from torch import nn\n",
    "from torch import optim\n",
    "import torch.nn.functional as F\n",
    "from torchvision import datasets, transforms, models"
   ]
  },
  {
   "cell_type": "code",
   "execution_count": 0,
   "metadata": {
    "colab": {},
    "colab_type": "code",
    "id": "LExRGlSVkCT-"
   },
   "outputs": [],
   "source": [
    "from torchvision import datasets, transforms, models\n",
    "from collections import OrderedDict\n",
    "\n",
    "# Use GPU if it's available\n",
    "device = torch.device(\"cuda\" if torch.cuda.is_available() else \"cpu\")\n",
    "\n",
    "model = models.vgg16(pretrained=True)\n",
    "n_inputs = model.classifier[6].in_features\n",
    "\n",
    "# Freeze parameters so we don't backprop through them\n",
    "for param in model.parameters():\n",
    "    param.requires_grad = False\n",
    "    \n",
    "last_layer = nn.Linear(n_inputs, 102)\n",
    "\n",
    "model.classifier[6] = last_layer\n",
    "\n",
    "criterion = nn.CrossEntropyLoss()\n",
    "\n",
    "lr = 0.06\n",
    "# specify optimizer (stochastic gradient descent) and learning rate\n",
    "optimizer = optim.SGD(model.classifier.parameters(), lr=lr)\n",
    "\n",
    "model.to(device);"
   ]
  },
  {
   "cell_type": "code",
   "execution_count": 0,
   "metadata": {
    "colab": {
     "base_uri": "https://localhost:8080/",
     "height": 767
    },
    "colab_type": "code",
    "executionInfo": {
     "elapsed": 747038,
     "status": "ok",
     "timestamp": 1546760004355,
     "user": {
      "displayName": "蕭辰翰",
      "photoUrl": "https://lh4.googleusercontent.com/-8GRt3sJ0oeo/AAAAAAAAAAI/AAAAAAAAP-M/1O5OOrSXQ4M/s64/photo.jpg",
      "userId": "16434142808607286781"
     },
     "user_tz": -480
    },
    "id": "ysx4CVfy6mhM",
    "outputId": "6053d27b-cc8a-4fe8-c038-aceed97cc308"
   },
   "outputs": [
    {
     "name": "stdout",
     "output_type": "stream",
     "text": [
      "Sun Jan  6 06:51:20 UTC 2019\n",
      "Epoch:  31\n",
      "Epoch: 31 \tTraining Loss: 0.329789 \tValidation Loss: 0.392661\n",
      "valid Accu: 0.900978\n",
      "Sun Jan  6 06:55:29 UTC 2019\n",
      "Epoch:  32\n",
      "Epoch: 32 \tTraining Loss: 0.334290 \tValidation Loss: 0.410786\n",
      "valid Accu: 0.891198\n",
      "Sun Jan  6 06:59:37 UTC 2019\n",
      "Epoch:  33\n",
      "Epoch: 33 \tTraining Loss: 0.329240 \tValidation Loss: 0.396735\n",
      "valid Accu: 0.891198\n",
      "Sun Jan  6 07:03:45 UTC 2019\n",
      "Epoch:  34\n",
      "Epoch: 34 \tTraining Loss: 0.340795 \tValidation Loss: 0.405814\n",
      "valid Accu: 0.886308\n",
      "Sun Jan  6 07:07:53 UTC 2019\n",
      "Epoch:  35\n",
      "Epoch: 35 \tTraining Loss: 0.333965 \tValidation Loss: 0.402329\n",
      "valid Accu: 0.888753\n",
      "Sun Jan  6 07:12:02 UTC 2019\n",
      "Epoch:  36\n",
      "Epoch: 36 \tTraining Loss: 0.323028 \tValidation Loss: 0.406666\n",
      "valid Accu: 0.887531\n",
      "Sun Jan  6 07:16:10 UTC 2019\n",
      "Epoch:  37\n",
      "Epoch: 37 \tTraining Loss: 0.306061 \tValidation Loss: 0.408336\n",
      "valid Accu: 0.882641\n",
      "Sun Jan  6 07:20:19 UTC 2019\n",
      "Epoch:  38\n",
      "Epoch: 38 \tTraining Loss: 0.302823 \tValidation Loss: 0.387009\n",
      "valid Accu: 0.892421\n",
      "Sun Jan  6 07:24:36 UTC 2019\n",
      "Epoch:  39\n",
      "Epoch: 39 \tTraining Loss: 0.314714 \tValidation Loss: 0.414352\n",
      "valid Accu: 0.883863\n",
      "Sun Jan  6 07:29:03 UTC 2019\n",
      "Epoch:  40\n",
      "Epoch: 40 \tTraining Loss: 0.297816 \tValidation Loss: 0.453456\n",
      "valid Accu: 0.881418\n",
      "0.3687732855272468\n",
      "40\n"
     ]
    }
   ],
   "source": [
    "# number of epochs to train the model\n",
    "n_epochs = 40\n",
    "\n",
    "import os\n",
    "exists = os.path.isfile('model.pt')\n",
    "if exists:\n",
    "  checkpoint = torch.load('model.pt')\n",
    "  model.load_state_dict(checkpoint['state_dict'])\n",
    "  valid_loss_min = checkpoint['valid_loss_min']\n",
    "  start_epochs = checkpoint['epoch'] + 1\n",
    "  n_epochs = max(n_epochs, checkpoint['epoch'])\n",
    "else:\n",
    "  valid_loss_min = np.Inf # track change in validation loss\n",
    "  start_epochs = 1\n",
    "\n",
    "best_model = None\n",
    "\n",
    "for epoch in range(start_epochs, n_epochs+1):\n",
    "    !date\n",
    "    print(\"Epoch: \", epoch)\n",
    "    # keep track of training and validation loss\n",
    "    train_loss = 0.0\n",
    "    valid_loss = 0.0\n",
    "    \n",
    "    ###################\n",
    "    # train the model #\n",
    "    ###################\n",
    "    model.train()\n",
    "    for batch_idx, (data, target) in enumerate(train_dataloaders):\n",
    "        # move tensors to GPU if CUDA is available\n",
    "        if train_on_gpu:\n",
    "            data, target = data.cuda(), target.cuda()\n",
    "        #data, target = data.to(device), target.to(device)\n",
    "        \n",
    "        # clear the gradients of all optimized variables\n",
    "        optimizer.zero_grad()\n",
    "        # forward pass: compute predicted outputs by passing inputs to the model\n",
    "        output = model.forward(data)\n",
    "        # calculate the batch loss\n",
    "        loss = criterion(output, target)\n",
    "        # backward pass: compute gradient of the loss with respect to model parameters\n",
    "        loss.backward()\n",
    "        # perform a single optimization step (parameter update)\n",
    "        optimizer.step()\n",
    "        # update training loss\n",
    "        train_loss += loss.item()*data.size(0)\n",
    "        \n",
    "    ######################    \n",
    "    # validate the model #\n",
    "    ######################\n",
    "    model.eval()\n",
    "    running_corrects = 0\n",
    "    running_size = 0\n",
    "    class_correct = list(0. for i in range(102))\n",
    "    class_total = list(0. for i in range(102))\n",
    "    for batch_idx, (data, target) in enumerate(valid_dataloaders):\n",
    "        # move tensors to GPU if CUDA is available\n",
    "        if train_on_gpu:\n",
    "            data, target = data.cuda(), target.cuda()\n",
    "        #data, target = data.to(device), target.to(device)\n",
    "        \n",
    "        # forward pass: compute predicted outputs by passing inputs to the model\n",
    "        output = model.forward(data)\n",
    "        # calculate the batch loss\n",
    "        loss = criterion(output, target)\n",
    "        # update average validation loss \n",
    "        valid_loss += loss.item()*data.size(0)\n",
    "        \n",
    "        # convert output probabilities to predicted class\n",
    "        _, pred = torch.max(output, 1)\n",
    "        #print(pred)\n",
    "        #print(target)\n",
    "        # compare predictions to true label\n",
    "        correct_tensor = pred.eq(target.data.view_as(pred))\n",
    "        correct = np.squeeze(correct_tensor.numpy()) if not train_on_gpu else np.squeeze(correct_tensor.cpu().numpy())\n",
    "        # print(correct)\n",
    "        # calculate test accuracy for each object class\n",
    "        #for i in range(target.size):\n",
    "        #    label = target.data[i]\n",
    "        #    class_correct[label] += correct[i].item()\n",
    "        #    class_total[label] += 1\n",
    "        # calculate accuracy\n",
    "        running_corrects += sum(correct)\n",
    "        running_size += data.size(0)\n",
    "    accu = float(running_corrects.item()) / running_size\n",
    "    \n",
    "    # calculate average losses\n",
    "    train_loss = train_loss/len(train_dataloaders.dataset)\n",
    "    valid_loss = valid_loss/len(valid_dataloaders.dataset)\n",
    "        \n",
    "    # print training/validation statistics \n",
    "    print('Epoch: {} \\tTraining Loss: {:.6f} \\tValidation Loss: {:.6f}'.format(\n",
    "        epoch, train_loss, valid_loss))\n",
    "    print('valid Accu: {:.6f}'.format(\n",
    "        accu))\n",
    "    \n",
    "    # save model if validation loss has decreased\n",
    "    if valid_loss <= valid_loss_min:\n",
    "        print('Validation loss decreased ({:.6f} --> {:.6f}).  Saving model ...'.format(\n",
    "        valid_loss_min,\n",
    "        valid_loss))\n",
    "        best_model = model\n",
    "        valid_loss_min = valid_loss\n",
    "\n",
    "print(valid_loss_min)\n",
    "print(n_epochs)"
   ]
  },
  {
   "cell_type": "markdown",
   "metadata": {
    "colab_type": "text",
    "id": "Ar55uBe-6mhP"
   },
   "source": [
    "## Save the checkpoint\n",
    "\n",
    "Now that your network is trained, save the model so you can load it later for making predictions. You probably want to save other things such as the mapping of classes to indices which you get from one of the image datasets: `image_datasets['train'].class_to_idx`. You can attach this to the model as an attribute which makes inference easier later on.\n",
    "\n",
    "```model.class_to_idx = image_datasets['train'].class_to_idx```\n",
    "\n",
    "Remember that you'll want to completely rebuild the model later so you can use it for inference. Make sure to include any information you need in the checkpoint. If you want to load the model and keep training, you'll want to save the number of epochs as well as the optimizer state, `optimizer.state_dict`. You'll likely want to use this trained model in the next part of the project, so best to save it now."
   ]
  },
  {
   "cell_type": "code",
   "execution_count": 0,
   "metadata": {
    "colab": {},
    "colab_type": "code",
    "id": "Hn6_cFg86mhP"
   },
   "outputs": [],
   "source": [
    "# TODO: Save the checkpoint\n",
    "torch.save({'state_dict': model.state_dict(), \n",
    "#            'best_state_dict': best_model.state_dict(),\n",
    "            'class_to_idx': train_image_datasets.class_to_idx, \n",
    "            'valid_loss_min': valid_loss_min,\n",
    "            'epoch': n_epochs,\n",
    "            'lr': lr,\n",
    "            'optimizer': optimizer},\n",
    "           'model.pt')"
   ]
  },
  {
   "cell_type": "code",
   "execution_count": 0,
   "metadata": {
    "colab": {},
    "colab_type": "code",
    "id": "FSkBO2MZOsER"
   },
   "outputs": [],
   "source": [
    "!rsync -P /content/model.pt \"/content/drive/My Drive/Colab Notebooks/\""
   ]
  },
  {
   "cell_type": "markdown",
   "metadata": {
    "colab_type": "text",
    "id": "29Zf2GXj6mhR"
   },
   "source": [
    "## Loading the checkpoint\n",
    "\n",
    "At this point it's good to write a function that can load a checkpoint and rebuild the model. That way you can come back to this project and keep working on it without having to retrain the network."
   ]
  },
  {
   "cell_type": "code",
   "execution_count": 0,
   "metadata": {
    "colab": {},
    "colab_type": "code",
    "id": "Tu22XN1WBdKt"
   },
   "outputs": [],
   "source": [
    "!ls -al"
   ]
  },
  {
   "cell_type": "code",
   "execution_count": 0,
   "metadata": {
    "colab": {},
    "colab_type": "code",
    "id": "iasWg6A3L8gJ"
   },
   "outputs": [],
   "source": [
    "#!rsync -P \"/content/drive/My Drive/Colab Notebooks/model.pt\" /content/model.pt"
   ]
  },
  {
   "cell_type": "code",
   "execution_count": 0,
   "metadata": {
    "colab": {},
    "colab_type": "code",
    "id": "sa6joBMQ6mhS"
   },
   "outputs": [],
   "source": [
    "# TODO: Write a function that loads a checkpoint and rebuilds the model\n",
    "import torch\n",
    "import numpy as np\n",
    "\n",
    "%matplotlib inline\n",
    "%config InlineBackend.figure_format = 'retina'\n",
    "\n",
    "import matplotlib.pyplot as plt\n",
    "\n",
    "from torch import nn\n",
    "from torch import optim\n",
    "from torchvision import datasets, transforms, models\n",
    "from collections import OrderedDict\n",
    "\n",
    "# TODO: switch to gpu\n",
    "checkpoint = torch.load('model.pt', map_location='cpu')\n",
    "model = models.vgg16(pretrained=True)\n",
    "n_inputs = model.classifier[6].in_features\n",
    "\n",
    "last_layer = nn.Linear(n_inputs, 102)\n",
    "\n",
    "model.classifier[6] = last_layer\n",
    "\n",
    "model.load_state_dict(checkpoint['state_dict'])\n",
    "model.class_to_idx = checkpoint['class_to_idx']\n",
    "print(model)\n",
    "print(checkpoint['epoch'])"
   ]
  },
  {
   "cell_type": "markdown",
   "metadata": {
    "colab_type": "text",
    "id": "52WUeikM6mhT"
   },
   "source": [
    "# Inference for classification\n",
    "\n",
    "Now you'll write a function to use a trained network for inference. That is, you'll pass an image into the network and predict the class of the flower in the image. Write a function called `predict` that takes an image and a model, then returns the top $K$ most likely classes along with the probabilities. It should look like \n",
    "\n",
    "```python\n",
    "probs, classes = predict(image_path, model)\n",
    "print(probs)\n",
    "print(classes)\n",
    "> [ 0.01558163  0.01541934  0.01452626  0.01443549  0.01407339]\n",
    "> ['70', '3', '45', '62', '55']\n",
    "```\n",
    "\n",
    "First you'll need to handle processing the input image such that it can be used in your network. \n",
    "\n",
    "## Image Preprocessing\n",
    "\n",
    "You'll want to use `PIL` to load the image ([documentation](https://pillow.readthedocs.io/en/latest/reference/Image.html)). It's best to write a function that preprocesses the image so it can be used as input for the model. This function should process the images in the same manner used for training. \n",
    "\n",
    "First, resize the images where the shortest side is 256 pixels, keeping the aspect ratio. This can be done with the [`thumbnail`](http://pillow.readthedocs.io/en/3.1.x/reference/Image.html#PIL.Image.Image.thumbnail) or [`resize`](http://pillow.readthedocs.io/en/3.1.x/reference/Image.html#PIL.Image.Image.thumbnail) methods. Then you'll need to crop out the center 224x224 portion of the image.\n",
    "\n",
    "Color channels of images are typically encoded as integers 0-255, but the model expected floats 0-1. You'll need to convert the values. It's easiest with a Numpy array, which you can get from a PIL image like so `np_image = np.array(pil_image)`.\n",
    "\n",
    "As before, the network expects the images to be normalized in a specific way. For the means, it's `[0.485, 0.456, 0.406]` and for the standard deviations `[0.229, 0.224, 0.225]`. You'll want to subtract the means from each color channel, then divide by the standard deviation. \n",
    "\n",
    "And finally, PyTorch expects the color channel to be the first dimension but it's the third dimension in the PIL image and Numpy array. You can reorder dimensions using [`ndarray.transpose`](https://docs.scipy.org/doc/numpy-1.13.0/reference/generated/numpy.ndarray.transpose.html). The color channel needs to be first and retain the order of the other two dimensions."
   ]
  },
  {
   "cell_type": "code",
   "execution_count": 0,
   "metadata": {
    "colab": {},
    "colab_type": "code",
    "id": "GEyYiF0y6mhU"
   },
   "outputs": [],
   "source": [
    "def process_image(image):\n",
    "    ''' Scales, crops, and normalizes a PIL image for a PyTorch model,\n",
    "        returns an Numpy array\n",
    "    '''\n",
    "    \n",
    "    # TODO: Process a PIL image for use in a PyTorch model\n",
    "\n",
    "    # large images will slow down processing\n",
    "    in_transform = transforms.Compose([\n",
    "                        transforms.Resize(255),\n",
    "                        transforms.CenterCrop(224),\n",
    "                        transforms.ToTensor(),\n",
    "                        transforms.Normalize((0.485, 0.456, 0.406), \n",
    "                                             (0.229, 0.224, 0.225))])\n",
    "\n",
    "    # discard the transparent, alpha channel (that's the :3)\n",
    "    image = in_transform(image)[:3,:,:]\n",
    "    image = image.numpy()\n",
    "    return image"
   ]
  },
  {
   "cell_type": "markdown",
   "metadata": {
    "colab_type": "text",
    "id": "JqW0gjQ_6mhW"
   },
   "source": [
    "To check your work, the function below converts a PyTorch tensor and displays it in the notebook. If your `process_image` function works, running the output through this function should return the original image (except for the cropped out portions)."
   ]
  },
  {
   "cell_type": "code",
   "execution_count": 0,
   "metadata": {
    "colab": {},
    "colab_type": "code",
    "id": "ui8ELiP-6mhX"
   },
   "outputs": [],
   "source": [
    "def imshow(image, ax=None, title=None):\n",
    "    \"\"\"Imshow for Tensor.\"\"\"\n",
    "    if ax is None:\n",
    "        fig, ax = plt.subplots()\n",
    "    \n",
    "    image = image.transpose(1,2,0)\n",
    "    # Undo preprocessing\n",
    "    mean = np.array([0.485, 0.456, 0.406])\n",
    "    std = np.array([0.229, 0.224, 0.225])\n",
    "    image = std * image + mean\n",
    "    \n",
    "    # Image needs to be clipped between 0 and 1 or it looks like noise when displayed\n",
    "    image = np.clip(image, 0, 1)\n",
    "    \n",
    "    ax.imshow(image)\n",
    "    \n",
    "    return ax"
   ]
  },
  {
   "cell_type": "markdown",
   "metadata": {
    "colab_type": "text",
    "id": "Y3i2CcLf6mhb"
   },
   "source": [
    "## Class Prediction\n",
    "\n",
    "Once you can get images in the correct format, it's time to write a function for making predictions with your model. A common practice is to predict the top 5 or so (usually called top-$K$) most probable classes. You'll want to calculate the class probabilities then find the $K$ largest values.\n",
    "\n",
    "To get the top $K$ largest values in a tensor use [`x.topk(k)`](http://pytorch.org/docs/master/torch.html#torch.topk). This method returns both the highest `k` probabilities and the indices of those probabilities corresponding to the classes. You need to convert from these indices to the actual class labels using `class_to_idx` which hopefully you added to the model or from an `ImageFolder` you used to load the data ([see here](#Save-the-checkpoint)). Make sure to invert the dictionary so you get a mapping from index to class as well.\n",
    "\n",
    "Again, this method should take a path to an image and a model checkpoint, then return the probabilities and classes.\n",
    "\n",
    "```python\n",
    "probs, classes = predict(image_path, model)\n",
    "print(probs)\n",
    "print(classes)\n",
    "> [ 0.01558163  0.01541934  0.01452626  0.01443549  0.01407339]\n",
    "> ['70', '3', '45', '62', '55']\n",
    "```"
   ]
  },
  {
   "cell_type": "code",
   "execution_count": 0,
   "metadata": {
    "colab": {},
    "colab_type": "code",
    "id": "9ZAQVl6W6mhb"
   },
   "outputs": [],
   "source": [
    "from PIL import Image\n",
    "import torch.nn.functional as F\n",
    "\n",
    "def predict(image_path, model, topk=5):\n",
    "    ''' Predict the class (or classes) of an image using a trained deep learning model.\n",
    "    '''\n",
    "    \n",
    "    # TODO: Implement the code to predict the class from an image file\n",
    "    image = Image.open(image_path).convert('RGB')\n",
    "    data = process_image(image)\n",
    "    b = torch.from_numpy(data)\n",
    "    b = b.unsqueeze(0)\n",
    "    output = model.forward(b)\n",
    "    p = F.softmax(output, dim=1).data\n",
    "    if(not torch.cuda.is_available()):\n",
    "        p = p.cpu() # move to cpu\n",
    "    prob, indices = torch.topk(p, topk)\n",
    "    prob = prob.numpy().squeeze()\n",
    "    indices = indices.numpy().squeeze()\n",
    "    idx_to_class = {model.class_to_idx[c]: c for c in model.class_to_idx}\n",
    "    classes = [idx_to_class[idx] for idx in indices]\n",
    "    return data, prob, classes\n",
    "    \n",
    "    "
   ]
  },
  {
   "cell_type": "markdown",
   "metadata": {
    "colab_type": "text",
    "id": "2YpsJ6tD6mhe"
   },
   "source": [
    "## Sanity Checking\n",
    "\n",
    "Now that you can use a trained model for predictions, check to make sure it makes sense. Even if the validation accuracy is high, it's always good to check that there aren't obvious bugs. Use `matplotlib` to plot the probabilities for the top 5 classes as a bar graph, along with the input image. It should look like this:\n",
    "\n",
    "<img src='assets/inference_example.png' width=300px>\n",
    "\n",
    "You can convert from the class integer encoding to actual flower names with the `cat_to_name.json` file (should have been loaded earlier in the notebook). To show a PyTorch tensor as an image, use the `imshow` function defined above."
   ]
  },
  {
   "cell_type": "code",
   "execution_count": 0,
   "metadata": {
    "colab": {},
    "colab_type": "code",
    "id": "gz4Rb94M6mhf"
   },
   "outputs": [],
   "source": [
    "# TODO: Display an image along with the top 5 classes\n",
    "import matplotlib.pyplot as plt\n",
    "\n",
    "model.eval()\n",
    "for path in [\"flower_data/valid/1/image_06739.jpg\", \n",
    "             \"flower_data/valid/100/image_07895.jpg\", \n",
    "             \"flower_data/valid/100/image_07904.jpg\"]:\n",
    "  data, prob, classes = predict(path, model)\n",
    "  # imshow(data)\n",
    "  print(prob)\n",
    "  print(classes)\n",
    "  classes = [cat_to_name[c] for c in classes]\n",
    "  print(classes)\n",
    "\n",
    "  # plt.barh(classes, prob)\n",
    "  # plt.show()\n",
    "\n",
    "print(\"1 should be pink primrose\")\n",
    "print(\"100 should be blanket flower\")\n"
   ]
  },
  {
   "cell_type": "code",
   "execution_count": 0,
   "metadata": {
    "colab": {},
    "colab_type": "code",
    "id": "9tjBQwPPY3zj"
   },
   "outputs": [],
   "source": []
  }
 ],
 "metadata": {
  "accelerator": "GPU",
  "colab": {
   "collapsed_sections": [],
   "name": "Image Classifier Project.ipynb",
   "provenance": [],
   "version": "0.3.2"
  },
  "kernelspec": {
   "display_name": "Python 3",
   "language": "python",
   "name": "python3"
  },
  "language_info": {
   "codemirror_mode": {
    "name": "ipython",
    "version": 3
   },
   "file_extension": ".py",
   "mimetype": "text/x-python",
   "name": "python",
   "nbconvert_exporter": "python",
   "pygments_lexer": "ipython3",
   "version": "3.6.6"
  }
 },
 "nbformat": 4,
 "nbformat_minor": 1
}
